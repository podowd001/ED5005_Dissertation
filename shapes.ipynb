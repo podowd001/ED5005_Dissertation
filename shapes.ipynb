{
 "cells": [
  {
   "cell_type": "markdown",
   "id": "2abd3cd7-805d-41ca-af4b-8a34bbefba42",
   "metadata": {},
   "source": [
    "# Name : Pat O'Dowd"
   ]
  },
  {
   "cell_type": "markdown",
   "id": "18cfa2f3-0bd4-428b-a507-50fabba8a527",
   "metadata": {},
   "source": [
    "# Number : 8273375"
   ]
  },
  {
   "cell_type": "markdown",
   "id": "9eea1f9d-0340-43f1-80cf-33a3622dbec3",
   "metadata": {},
   "source": [
    "### shapes.ipynb\n",
    "Generation of geometric shapes including Kanizsa Triangles and Squareas"
   ]
  },
  {
   "cell_type": "markdown",
   "id": "8977b3b4-8375-442a-b68b-5a4f4f452018",
   "metadata": {},
   "source": [
    "# Import Libraries"
   ]
  },
  {
   "cell_type": "code",
   "execution_count": 295,
   "id": "3f7e9c41-3fc8-46cc-9a2c-35c5f0d7ff93",
   "metadata": {},
   "outputs": [],
   "source": [
    "# import libraries\n",
    "import math\n",
    "import matplotlib.pyplot as plt\n",
    "from PIL import Image,ImageDraw\n",
    "import random\n"
   ]
  },
  {
   "cell_type": "markdown",
   "id": "f64a665d-2150-486d-842c-0800f487d739",
   "metadata": {},
   "source": [
    "# Common Functions "
   ]
  },
  {
   "cell_type": "code",
   "execution_count": 296,
   "id": "b4821665-5955-4b4c-8010-cd57ffd96112",
   "metadata": {},
   "outputs": [],
   "source": [
    "# Get random colours from a fixed pallette.\n",
    "def getRandColor():\n",
    "    black = (0,0,0)\n",
    "    white = (255,255,255)\n",
    "    gray = (100,100,100)\n",
    "    colors = ['red','orange','yellow','green','blue','indigo','violet',gray]\n",
    "    randnum = random.randint(0, 7)\n",
    "    return colors[randnum]"
   ]
  },
  {
   "cell_type": "code",
   "execution_count": 297,
   "id": "92a0778b-7133-4677-873b-c6ff54f00ee9",
   "metadata": {},
   "outputs": [],
   "source": [
    "# Rotate a point about an angle. Used to calclate the vertices of a triangle.\n",
    "def rotate_point(angle,ox,oy,length1,length2):\n",
    "    radians = math.radians(angle)/2\n",
    "\n",
    "    x = 0\n",
    "    y = length1\n",
    "    px= x * math.cos(radians) - y * math.sin(radians)\n",
    "    py= x * math.sin(radians) + y * math.cos(radians)\n",
    "    y - length2\n",
    "    qx= x * math.cos(-radians) - y * math.sin(-radians)\n",
    "    qy= x * math.sin(-radians) + y * math.cos(-radians)\n",
    "    px = px + ox\n",
    "    py = py + oy\n",
    "    qx = qx + ox\n",
    "    qy = qy + oy\n",
    "\n",
    "    return px,py,qx,qy\n"
   ]
  },
  {
   "cell_type": "code",
   "execution_count": 298,
   "id": "41234acb-fa10-4ea9-89d2-7b32611ef99f",
   "metadata": {},
   "outputs": [],
   "source": [
    "# Get triangle coordinates\n",
    "def get_triangle_coords(length1,length2,angle,origin):\n",
    "    ox,oy = origin\n",
    "\n",
    "    rot_px,rot_py,rot_qx,rot_qy = rotate_point(angle,ox,oy,length1,length2)\n",
    "    return rot_px,rot_py,rot_qx,rot_qy\n",
    "    "
   ]
  },
  {
   "cell_type": "code",
   "execution_count": 299,
   "id": "f696a77c-cb0d-487e-a7d8-3a8f1c286d8d",
   "metadata": {},
   "outputs": [],
   "source": [
    "# Get Rectangle coordinates\n",
    "#def get_rectangle_coords(length1,length2,angle,origin):\n",
    "#    ox,oy = origin\n",
    "\n",
    "    \n",
    "\n",
    "#    rot_px,rot_py,rot_qx,rot_qy = rotate_point(angle,ox,oy,length1,length2)\n",
    "#    return rot_px,rot_py,rot_qx,rot_qy,rot_rx,rot_ry\n",
    "    "
   ]
  },
  {
   "cell_type": "code",
   "execution_count": 300,
   "id": "770e8a2a-b36e-491b-a528-d048e0a7c260",
   "metadata": {},
   "outputs": [],
   "source": [
    "# Draw pie slices - 'pacman' inducer shapes.\n",
    "def draw_pieslices(ox,oy,px,py,qx,qy,angle,radius,im,fillcolor):\n",
    "    draw = ImageDraw.Draw(im)\n",
    "    startx = ox - radius\n",
    "    starty = oy - radius\n",
    "    endx = ox + radius\n",
    "    endy = oy + radius\n",
    "        \n",
    "    draw.pieslice([(startx,starty),(endx,endy)],-240,60,(100,100,100),fill=fillcolor)\n",
    "\n",
    "    return im\n",
    "    "
   ]
  },
  {
   "cell_type": "code",
   "execution_count": 301,
   "id": "03a9d5de-038f-47ac-929e-7be9b66fc16c",
   "metadata": {},
   "outputs": [],
   "source": [
    "# Draw Kanizsa triangle\n",
    "def draw_kanizsa_triangle(primary_angle,len1,len2,ox,oy,radius,rotation,noise,fillcolor,backgroundColor):\n",
    "\n",
    "    im = Image.new(mode = \"RGB\",size = (400,300),color = backgroundColor)\n",
    "\n",
    "    px,py,qx,qy = get_triangle_coords(len1,len2,primary_angle,[ox,oy])\n",
    "    draw = ImageDraw.Draw(im)\n",
    "#    draw.polygon([(ox,oy),(px,py),(qx,qy),(ox,oy)],(200,200,200))\n",
    "#    draw_pieslices(ox,oy,px,py,qx,qy,angle,rotation,im)\n",
    "    \n",
    "    draw = ImageDraw.Draw(im)\n",
    "    startx = ox - radius\n",
    "    starty = oy - radius\n",
    "    endx = ox + radius\n",
    "    endy = oy + radius\n",
    "    start_angle = rotation +  primary_angle/2 + noise\n",
    "    end_angle = rotation -  primary_angle/2 + noise\n",
    "\n",
    "    draw.pieslice([(startx,starty),(endx,endy)],start_angle,end_angle,fillcolor)\n",
    "\n",
    "    startx = px - radius\n",
    "    starty = py - radius\n",
    "    endx = px + radius\n",
    "    endy = py + radius\n",
    "    start_angle = rotation + 180 + primary_angle + primary_angle/2 + noise\n",
    "    end_angle = rotation + 180 + primary_angle - primary_angle/2 + noise\n",
    "    draw.pieslice([(startx,starty),(endx,endy)],start_angle,end_angle,fillcolor)\n",
    "\n",
    "    startx = qx - radius\n",
    "    starty = qy - radius\n",
    "    endx = qx + radius\n",
    "    endy = qy + radius\n",
    "    start_angle = rotation + 180 - primary_angle + primary_angle/2  + noise\n",
    "    end_angle = rotation + 180 - primary_angle - primary_angle/2  + noise\n",
    "        \n",
    "    draw.pieslice([(startx,starty),(endx,endy)],start_angle,end_angle,fillcolor)\n",
    "    \n",
    "    return im\n"
   ]
  },
  {
   "cell_type": "code",
   "execution_count": 302,
   "id": "87e978aa-a90b-4cd7-9da8-cbc93b8f64b1",
   "metadata": {},
   "outputs": [],
   "source": [
    "# Draw regular triangle\n",
    "def draw_triangle(primary_angle,len1,len2,ox,oy,scale,object_type,fillcolor,outlinecolor,lineWidth,backgroundColor):\n",
    "    im = Image.new(mode = \"RGB\",size = (400,300),color = backgroundColor)\n",
    "    scale = scale / 100\n",
    "    px,py,qx,qy = get_triangle_coords(len1,len2,primary_angle,[ox,oy])\n",
    "    draw = ImageDraw.Draw(im)\n",
    "#    draw_pieslices(ox,oy,px,py,qx,qy,angle,rotation,im)\n",
    "    draw = ImageDraw.Draw(im)\n",
    "    if object_type == \"Outline\":\n",
    "        draw.polygon([(ox * scale,oy * scale),(px * scale,py * scale),(qx * scale,qy * scale)],width=lineWidth,fill=backgroundColor,outline=outlinecolor)\n",
    "    else:\n",
    "        draw.polygon([(ox * scale,oy * scale),(px * scale,py * scale),(qx * scale,qy * scale)],width=lineWidth,fill=fillcolor,outline=outlinecolor)\n",
    "\n",
    "        \n",
    "    \n",
    "    return im\n"
   ]
  },
  {
   "cell_type": "code",
   "execution_count": 303,
   "id": "5dda1fd1-8a40-4ca3-bdba-9680baf3f7ab",
   "metadata": {},
   "outputs": [],
   "source": [
    "# Draw Kanizsa Square\n",
    "def draw_kanizsa_square(primary_angle,len1,len2,ox,oy,radius,rotation,noise,fill_color,backgroundColor):\n",
    "\n",
    "\n",
    "    im = Image.new(mode = \"RGB\",size = (300,300),color = backgroundColor)\n",
    "\n",
    "\n",
    "    px = ox \n",
    "    py = oy + len2\n",
    "\n",
    "    qx = ox + len1\n",
    "    qy = oy\n",
    "\n",
    "    rx = ox + len1\n",
    "    ry = oy + len2\n",
    "\n",
    "\n",
    "    draw = ImageDraw.Draw(im)\n",
    "#    draw.polygon([(ox,oy),(px,py),(qx,qy),(ox,oy)],(200,200,200))\n",
    "#    draw_pieslices(ox,oy,px,py,qx,qy,angle,rotation,im)\n",
    "    draw = ImageDraw.Draw(im)\n",
    "\n",
    "    startx = px - radius\n",
    "    starty = py - radius\n",
    "    endx = px + radius\n",
    "    endy = py + radius\n",
    "    start_angle = rotation - 90 + primary_angle/2 - noise \n",
    "    end_angle = rotation - 90  - primary_angle/2 - noise \n",
    "    draw.pieslice([(startx,starty),(endx,endy)],start_angle,end_angle,fill_color)\n",
    "\n",
    "    startx = ox - radius\n",
    "    starty = oy - radius\n",
    "    endx = ox + radius\n",
    "    endy = oy + radius\n",
    "    start_angle = rotation +  primary_angle/2 - noise\n",
    "    end_angle = rotation -  primary_angle/2 - noise \n",
    "        \n",
    "    draw.pieslice([(startx,starty),(endx,endy)],start_angle,end_angle,fill_color)\n",
    "\n",
    "\n",
    "    startx = qx - radius\n",
    "    starty = qy - radius\n",
    "    endx = qx + radius\n",
    "    endy = qy + radius\n",
    "    start_angle = rotation + 90  + primary_angle/2 + noise \n",
    "    end_angle = rotation + 90 - primary_angle/2 + noise  \n",
    "        \n",
    "    draw.pieslice([(startx,starty),(endx,endy)],start_angle,end_angle,fill_color)\n",
    "\n",
    "    startx = rx - radius\n",
    "    starty = ry - radius\n",
    "    endx = rx + radius\n",
    "    endy = ry + radius\n",
    "    start_angle = rotation + 180  + primary_angle/2 + noise \n",
    "    end_angle = rotation + 180 - primary_angle/2 + noise \n",
    "        \n",
    "    draw.pieslice([(startx,starty),(endx,endy)],start_angle,end_angle,fill_color)\n",
    "\n",
    "#    im = im.rotate(ri,expand=True)\n",
    "    \n",
    "    return im\n"
   ]
  },
  {
   "cell_type": "code",
   "execution_count": 304,
   "id": "03f2d8d9-c0c4-44da-9152-3512fa430974",
   "metadata": {},
   "outputs": [],
   "source": [
    "# Draw Regular Square\n",
    "def draw_square(len1,len2,ox,oy,scale,object_type,fillcolor,outlinecolor,lineWidth,backgroundColor):\n",
    "\n",
    "\n",
    "\n",
    "    im = Image.new(mode = \"RGB\",size = (300,300),color = backgroundColor)\n",
    "    backgroundColor = getRandColor()\n",
    "    scale = scale / 100\n",
    "    px = ox \n",
    "    py = oy + len2\n",
    "\n",
    "    qx = ox + len1\n",
    "    qy = oy\n",
    "\n",
    "    rx = ox + len1\n",
    "    ry = oy + len2\n",
    "    backgroundColor = (255,255,255)\n",
    "    draw = ImageDraw.Draw(im)\n",
    "#    outlinecolor = (1,1,1)\n",
    "    if object_type == \"Outline\":\n",
    "        draw.polygon([(ox * scale,oy * scale),(px * scale,py* scale),(rx* scale,ry* scale),(qx* scale,qy* scale)],fill=backgroundColor,width=lineWidth,outline=outlinecolor)\n",
    "    else:\n",
    "        draw.polygon([(ox * scale,oy * scale),(px * scale,py* scale),(rx* scale,ry* scale),(qx* scale,qy* scale)],fill=fillcolor,width=lineWidth,outline=outlinecolor)\n",
    "    \n",
    "    return im\n"
   ]
  },
  {
   "cell_type": "code",
   "execution_count": 305,
   "id": "9ceb2432-6492-4b18-b7ba-2244a74b8b81",
   "metadata": {},
   "outputs": [],
   "source": [
    "# Draw Regular Square\n",
    "def draw_empty_square(len1,len2,ox,oy,scale,object_type,fillcolor,outlinecolor,lineWidth):\n",
    "    backgroundColor = getRandColor()\n",
    "\n",
    "\n",
    "\n",
    "    im = Image.new(mode = \"RGB\",size = (300,300),color = fillcolor)\n",
    "    \n",
    "    return im\n"
   ]
  },
  {
   "cell_type": "markdown",
   "id": "7e48791c-4d18-4e66-a0cb-ac16b7e2baef",
   "metadata": {},
   "source": [
    "# Display Sample Images"
   ]
  },
  {
   "cell_type": "code",
   "execution_count": 306,
   "id": "a94141dc-381d-48da-bafc-e96a285d0c1d",
   "metadata": {},
   "outputs": [
    {
     "data": {
      "text/plain": [
       "<matplotlib.image.AxesImage at 0x794f00a1fd60>"
      ]
     },
     "execution_count": 306,
     "metadata": {},
     "output_type": "execute_result"
    },
    {
     "data": {
      "image/png": "[encoded data removed]",
      "text/plain": [
       "<Figure size 800x800 with 1 Axes>"
      ]
     },
     "metadata": {},
     "output_type": "display_data"
    }
   ],
   "source": [
    "# Display Sample Square\n",
    "import matplotlib.transforms as mtransforms\n",
    "ox = 10\n",
    "oy = 10\n",
    "len1 = 220\n",
    "len2 = 220\n",
    "scale = 100\n",
    "outlinecolor = (100,100,100)\n",
    "fillcolor = getRandColor()\n",
    "fillcolor = (100,100,100)\n",
    "backgroundColor = (255,255,255)\n",
    "#backgroundColor = (0,0,0)\n",
    "\n",
    "lineWidth = 1\n",
    "object_type = 'Outline'\n",
    "im=draw_square(len1,len2,ox,oy,scale,object_type,fillcolor,outlinecolor,lineWidth,backgroundColor)\n",
    "plt.figure(figsize=(8,8))\n",
    "\n",
    "plt.imshow(im)\n"
   ]
  },
  {
   "cell_type": "code",
   "execution_count": 307,
   "id": "50a41c55-6452-4601-b1fe-c92e71b5b140",
   "metadata": {},
   "outputs": [
    {
     "data": {
      "text/plain": [
       "<matplotlib.image.AxesImage at 0x794f008fa710>"
      ]
     },
     "execution_count": 307,
     "metadata": {},
     "output_type": "execute_result"
    },
    {
     "data": {
      "image/png": "[encoded data removed]",
      "text/plain": [
       "<Figure size 800x800 with 1 Axes>"
      ]
     },
     "metadata": {},
     "output_type": "display_data"
    }
   ],
   "source": [
    "# Draw sample triangle\n",
    "ox = 200\n",
    "oy = 100\n",
    "ox = 150\n",
    "oy = 50\n",
    "\n",
    "angle = 45\n",
    "radius = 65\n",
    "len1 = 150\n",
    "len2 = 150\n",
    "rotation =90\n",
    "noise = 0\n",
    "ri = 45\n",
    "scale =125\n",
    "outlinecolor = (100,100,100)\n",
    "fillcolor = getRandColor()\n",
    "fillcolor = (255,255,255)\n",
    "backgroundColor = (255,255,255)\n",
    "#backgroundColor = (0,0,0)\n",
    "\n",
    "im=draw_triangle(angle,len1,len2,ox,oy,scale,'Outline',fillcolor,outlinecolor,lineWidth,backgroundColor)\n",
    "\n",
    "plt.figure(figsize=(8,8))\n",
    "\n",
    "plt.imshow(im)\n"
   ]
  },
  {
   "cell_type": "code",
   "execution_count": 308,
   "id": "c992528d-5c1f-41aa-8c45-c91d8f6e4c99",
   "metadata": {},
   "outputs": [
    {
     "data": {
      "text/plain": [
       "<matplotlib.image.AxesImage at 0x794f00718100>"
      ]
     },
     "execution_count": 308,
     "metadata": {},
     "output_type": "execute_result"
    },
    {
     "data": {
      "image/png": "[encoded data removed]",
      "text/plain": [
       "<Figure size 800x800 with 1 Axes>"
      ]
     },
     "metadata": {},
     "output_type": "display_data"
    }
   ],
   "source": [
    "# Draw sample Kanizsa Triangle\n",
    "\n",
    "num = 1\n",
    "ox = 200\n",
    "oy = 100\n",
    "angle = 60\n",
    "radius = 35\n",
    "len1 = 150\n",
    "len2 = 150\n",
    "rotation = 90\n",
    "noise = 0\n",
    "ri = 0\n",
    "gray = (100,100,100)\n",
    "backgroundColor = (0,0,0)\n",
    "white = (255,255,255)\n",
    "\n",
    "im=draw_kanizsa_triangle(angle,150,150,200,100,radius,90,0,white,backgroundColor)        \n",
    "\n",
    "\n",
    "plt.figure(figsize=(8,8))\n",
    "\n",
    "plt.imshow(im)\n"
   ]
  },
  {
   "cell_type": "code",
   "execution_count": 309,
   "id": "a60fd048-5d07-4954-8d8a-e1cce797d3c2",
   "metadata": {},
   "outputs": [
    {
     "data": {
      "text/plain": [
       "<matplotlib.image.AxesImage at 0x794f0076d0f0>"
      ]
     },
     "execution_count": 309,
     "metadata": {},
     "output_type": "execute_result"
    },
    {
     "data": {
      "image/png": "[encoded data removed]",
      "text/plain": [
       "<Figure size 800x800 with 1 Axes>"
      ]
     },
     "metadata": {},
     "output_type": "display_data"
    }
   ],
   "source": [
    "# Draw sample Kanizsa Square\n",
    "\n",
    "num = 1\n",
    "ox = 100\n",
    "oy = 100\n",
    "angle = 90\n",
    "\n",
    "radius = 30\n",
    "len1 = 100\n",
    "len2 = 100\n",
    "rotation = 90\n",
    "noise = 0\n",
    "ri = 0\n",
    "gray = (100,100,100)\n",
    "white = (255,255,255)\n",
    "im=draw_kanizsa_square(angle,100,100,100,100,radius,45,0,white,backgroundColor)     \n",
    "\n",
    "plt.figure(figsize=(8,8))\n",
    "\n",
    "plt.imshow(im)\n"
   ]
  },
  {
   "cell_type": "markdown",
   "id": "10846f6a-b6ce-45cc-9191-5bfe0ff4bd35",
   "metadata": {},
   "source": [
    "# Generate Image Files"
   ]
  },
  {
   "cell_type": "markdown",
   "id": "91578a27-15db-4b40-a24b-0a78567023e4",
   "metadata": {},
   "source": [
    "# Set Root Directory\n",
    "\n",
    "Content is generated under the \"Content/\" and also under individual category directories.\n"
   ]
  },
  {
   "cell_type": "code",
   "execution_count": 310,
   "id": "58047b32-a7df-42f9-a22c-77c954cf0119",
   "metadata": {},
   "outputs": [],
   "source": [
    "# Set root directory for saving images.\n",
    "generateunderContent = True\n",
    "root = \"Content/\""
   ]
  },
  {
   "cell_type": "markdown",
   "id": "d668fb78-196e-4cb6-bbb6-726c362c3152",
   "metadata": {},
   "source": [
    "## Generate Filled Images"
   ]
  },
  {
   "cell_type": "code",
   "execution_count": 311,
   "id": "0d4991b5-2c64-4cb9-bfe4-1566545d912c",
   "metadata": {},
   "outputs": [
    {
     "name": "stdout",
     "output_type": "stream",
     "text": [
      "4051\n"
     ]
    }
   ],
   "source": [
    "# Generate filled Squares. Squares are scaled and rotated.\n",
    "if generateunderContent:\n",
    "    path = root + \"Square/\"\n",
    "else:\n",
    "    path = \"RealContent/Square/\"\n",
    "ri = 0\n",
    "filenum = 1\n",
    "object_type = 'Fill'\n",
    "gray = (100,100,100)\n",
    "backgroundColor = (255,255,255)\n",
    "for ri in range(0,90,2):\n",
    "    for scale in range(50,140):\n",
    "# Parameters for draw_square\n",
    "# draw_square(xLength,yLength,xOrigin,yOrigin,scale,object_type(fill or outline),fillcolor,outlinecolor,lineWidth)\n",
    "        im=draw_square(100,100,50,50,scale,'Fill',gray,gray,1,backgroundColor)\n",
    "        padded_num = str(filenum).rjust(6, '0')\n",
    "        filename = path + \"square_1_\" + padded_num + \".png\"\n",
    "        im = im.rotate(ri,fillcolor=backgroundColor)\n",
    "        im.save(filename,\"PNG\")\n",
    "        filenum = filenum + 1\n",
    "print(filenum)"
   ]
  },
  {
   "cell_type": "code",
   "execution_count": 312,
   "id": "a6a56346-2475-4ed6-8e3d-54862df49f05",
   "metadata": {},
   "outputs": [
    {
     "name": "stdout",
     "output_type": "stream",
     "text": [
      "4501\n"
     ]
    }
   ],
   "source": [
    "# Draw regular filled triangle shapes with scale, angle and rotation\n",
    "if generateunderContent:\n",
    "    path = root + \"Triangle/\"\n",
    "else:\n",
    "    path = \"RealContent/Triangle/\"\n",
    "ri = 0\n",
    "gray = (100,100,100)\n",
    "backgroundColor = (255,255,255)\n",
    "\n",
    "filenum = 1\n",
    "for ri in range(0,90,5):\n",
    "    for angle in range(40,90,5):\n",
    "        for scale in range(50,125,3):\n",
    "# draw_triangle param\n",
    "# (angle,xLength,yLength,xOrigin,yOrigin,scale,object_type,fillcolor,outlinecolor,linewidth,backgroundColor)\n",
    "            im=draw_triangle(angle,150,150,150,50,scale,'Fill',gray,gray,1,backgroundColor)\n",
    "            padded_num = str(filenum).rjust(6, '0')\n",
    "            filename = path + \"triangle_1_\" + padded_num + \".png\"\n",
    "            im = im.rotate(ri,fillcolor=(255,255,255))\n",
    "            im.save(filename,\"PNG\")\n",
    "            filenum = filenum + 1\n",
    "print(filenum)"
   ]
  },
  {
   "cell_type": "markdown",
   "id": "ff844007-671c-4969-bb9f-c39d158d4574",
   "metadata": {},
   "source": [
    "# Generate Coloured Images"
   ]
  },
  {
   "cell_type": "code",
   "execution_count": 313,
   "id": "5bb38e0f-e7fd-4f56-bd8e-40bb98277830",
   "metadata": {},
   "outputs": [
    {
     "name": "stdout",
     "output_type": "stream",
     "text": [
      "4051\n"
     ]
    }
   ],
   "source": [
    "# Generate coloured filled Squares. Squares are scaled and rotated.\n",
    "if generateunderContent:\n",
    "    path = root + \"C_Square/\"\n",
    "else:\n",
    "    path = \"RealContentColour/C_Square/\"\n",
    "ri = 0\n",
    "filenum = 1\n",
    "object_type = 'Fill'\n",
    "gray = (100,100,100)\n",
    "backgroundColor = (255,255,255)\n",
    "for ri in range(0,90,2):\n",
    "    for scale in range(50,140):\n",
    "# Parameters for draw_square\n",
    "# draw_square(xLength,yLength,xOrigin,yOrigin,scale,object_type(fill or outline),fillcolor,outlinecolor,lineWidth)\n",
    "        fillcolor = getRandColor()\n",
    "        im=draw_square(100,100,50,50,scale,'Fill',fillcolor,gray,1,backgroundColor)\n",
    "        padded_num = str(filenum).rjust(6, '0')\n",
    "        filename = path + \"square_1_\" + padded_num + \".png\"\n",
    "        im = im.rotate(ri,fillcolor=(255,255,255))\n",
    "        im.save(filename,\"PNG\")\n",
    "        filenum = filenum + 1\n",
    "print(filenum)"
   ]
  },
  {
   "cell_type": "code",
   "execution_count": 314,
   "id": "88623475-a858-49d2-9c5d-414561bdb3ac",
   "metadata": {},
   "outputs": [
    {
     "name": "stdout",
     "output_type": "stream",
     "text": [
      "4501\n"
     ]
    }
   ],
   "source": [
    "# Draw coloured filled triangle shapes with scale, angle and rotation\n",
    "if generateunderContent:\n",
    "    path = root + \"C_Triangle/\"\n",
    "else:\n",
    "    path = \"RealContentColour/C_Triangle/\"\n",
    "ri = 0\n",
    "gray = (100,100,100)\n",
    "backgroundColor = (255,255,255)\n",
    "filenum = 1\n",
    "for ri in range(0,90,5):\n",
    "    for angle in range(40,90,5):\n",
    "        for scale in range(50,125,3):\n",
    "# draw_triangle param\n",
    "# (angle,xLength,yLength,xOrigin,yOrigin,scale,object_type,fillcolor,outlinecolor,linewidth)\n",
    "            fillcolor = getRandColor()\n",
    "            im=draw_triangle(angle,150,150,150,50,scale,'Fill',fillcolor,gray,1,backgroundColor)\n",
    "            padded_num = str(filenum).rjust(6, '0')\n",
    "            filename = path + \"triangle_1_\" + padded_num + \".png\"\n",
    "            im = im.rotate(ri,fillcolor=(255,255,255))\n",
    "            im.save(filename,\"PNG\")\n",
    "            filenum = filenum + 1\n",
    "print(filenum)"
   ]
  },
  {
   "cell_type": "markdown",
   "id": "e47732a2-e168-46ab-830d-eee4dbd72c36",
   "metadata": {},
   "source": [
    "## Generate Outline Images"
   ]
  },
  {
   "cell_type": "code",
   "execution_count": 315,
   "id": "b5db36b0-95c3-48ba-9e10-def4c8334acf",
   "metadata": {},
   "outputs": [
    {
     "name": "stdout",
     "output_type": "stream",
     "text": [
      "4051\n"
     ]
    }
   ],
   "source": [
    "# Generate outline Squares. Squares are scaled and rotated.\n",
    "if generateunderContent:\n",
    "    path = root + \"O_Square/\"\n",
    "else:\n",
    "    path = \"OutlineContent/O_Square/\"\n",
    "ri = 0\n",
    "filenum = 1\n",
    "gray = (100,100,100)\n",
    "backgroundColor = (255,255,255)\n",
    "for ri in range(0,90,2):\n",
    "    for scale in range(50,140):\n",
    "# Parameters for draw_square\n",
    "# draw_square(xLength,yLength,xOrigin,yOrigin,scale,object_type(fill or outline),fillcolor,outlinecolor,lineWidth)\n",
    "        im=draw_square(100,100,50,50,scale,'Outline',gray,gray,3,backgroundColor)\n",
    "        padded_num = str(filenum).rjust(6, '0')\n",
    "        filename = path + \"square_1_\" + padded_num + \".png\"\n",
    "        im = im.rotate(ri,fillcolor=(255,255,255))\n",
    "        im.save(filename,\"PNG\")\n",
    "        filenum = filenum + 1\n",
    "print(filenum)"
   ]
  },
  {
   "cell_type": "code",
   "execution_count": 316,
   "id": "cf03bde3-7141-49aa-86df-6b2a86da171d",
   "metadata": {},
   "outputs": [
    {
     "name": "stdout",
     "output_type": "stream",
     "text": [
      "4051\n"
     ]
    }
   ],
   "source": [
    "# Generate thick outline Squares. Squares are scaled and rotated.\n",
    "if generateunderContent:\n",
    "    path = root + \"OT_Square/\"\n",
    "else:\n",
    "    path = \"OutlineContentThick/OT_Square/\"\n",
    "ri = 0\n",
    "filenum = 1\n",
    "gray = (100,100,100)\n",
    "backgroundColor = (255,255,255)\n",
    "for ri in range(0,90,2):\n",
    "    for scale in range(50,140):\n",
    "# Parameters for draw_square\n",
    "# draw_square(xLength,yLength,xOrigin,yOrigin,scale,object_type(fill or outline),fillcolor,outlinecolor,lineWidth)\n",
    "        im=draw_square(100,100,50,50,scale,'Outline',gray,gray,10,backgroundColor)\n",
    "        padded_num = str(filenum).rjust(6, '0')\n",
    "        filename = path + \"square_1_\" + padded_num + \".png\"\n",
    "        im = im.rotate(ri,fillcolor=(255,255,255))\n",
    "        im.save(filename,\"PNG\")\n",
    "        filenum = filenum + 1\n",
    "print(filenum)"
   ]
  },
  {
   "cell_type": "code",
   "execution_count": 317,
   "id": "c2914fbb-e303-43ab-a3f8-b34cd9fc6cce",
   "metadata": {},
   "outputs": [
    {
     "name": "stdout",
     "output_type": "stream",
     "text": [
      "4501\n"
     ]
    }
   ],
   "source": [
    "# Draw regular outline triangle shapes with scale, angle and rotation\n",
    "if generateunderContent:\n",
    "    path = root + \"O_Triangle/\"\n",
    "else:\n",
    "    path = \"OutlineContent/O_Triangle/\"\n",
    "filenum = 1\n",
    "gray = (100,100,100)\n",
    "backgroundColor = (255,255,255)\n",
    "for ri in range(0,90,5):\n",
    "    for angle in range(40,90,5):\n",
    "        for scale in range(50,125,3):\n",
    "            im=draw_triangle(angle,150,150,150,50,scale,'Outline',gray,gray,3,backgroundColor)\n",
    "            padded_num = str(filenum).rjust(6, '0')\n",
    "            filename = path + \"triangle_1_\" + padded_num + \".png\"\n",
    "            im = im.rotate(ri,fillcolor=(255,255,255))\n",
    "            im.save(filename,\"PNG\")\n",
    "            filenum = filenum + 1\n",
    "print(filenum)"
   ]
  },
  {
   "cell_type": "code",
   "execution_count": 318,
   "id": "d7d88260-3afc-4a16-9df6-a16d2d1f9730",
   "metadata": {},
   "outputs": [
    {
     "name": "stdout",
     "output_type": "stream",
     "text": [
      "4501\n"
     ]
    }
   ],
   "source": [
    "# Draw regular thick outline triangle shapes with scale, angle and rotation\n",
    "if generateunderContent:\n",
    "    path = root + \"OT_Triangle/\"\n",
    "else:\n",
    "    path = \"OutlineContentThick/OT_Triangle/\"\n",
    "filenum = 1\n",
    "gray = (100,100,100)\n",
    "backgroundColor = (255,255,255)\n",
    "for ri in range(0,90,5):\n",
    "    for angle in range(40,90,5):\n",
    "        for scale in range(50,125,3):\n",
    "            im=draw_triangle(angle,150,150,150,50,scale,'Outline',gray,gray,10,backgroundColor)\n",
    "            padded_num = str(filenum).rjust(6, '0')\n",
    "            filename = path + \"triangle_1_\" + padded_num + \".png\"\n",
    "            im = im.rotate(ri,fillcolor=(255,255,255))\n",
    "            im.save(filename,\"PNG\")\n",
    "            filenum = filenum + 1\n",
    "print(filenum)"
   ]
  },
  {
   "cell_type": "markdown",
   "id": "b21b0ba9-5977-4dac-b0bf-3e6022ee07b6",
   "metadata": {},
   "source": [
    "## Generate Kanizsa Images"
   ]
  },
  {
   "cell_type": "code",
   "execution_count": 319,
   "id": "f0e909ce-b085-4958-a233-a7a794f83ab9",
   "metadata": {},
   "outputs": [
    {
     "name": "stdout",
     "output_type": "stream",
     "text": [
      "4051\n"
     ]
    }
   ],
   "source": [
    "# Draw Kanizsa Squares\n",
    "if generateunderContent:\n",
    "    path = root + \"K_Square/\"\n",
    "else:\n",
    "    path = \"Kanizsa/K_Square/\"\n",
    "filenum = 1\n",
    "gray = (100,100,100)\n",
    "backgroundColor = (255,255,255)\n",
    "for ri in range(0,90,5):\n",
    "    for angle in range(80,95):\n",
    "        for radius in range(25,40):\n",
    "            im=draw_kanizsa_square(angle,100,100,100,100,radius,45,0,gray,backgroundColor)     \n",
    "            padded_num = str(filenum).rjust(6, '0')\n",
    "            filename = path + \"square_1_\" + padded_num + \".png\"\n",
    "            im = im.rotate(ri,fillcolor=(255,255,255))\n",
    "            im.save(filename,\"PNG\")\n",
    "            filenum = filenum + 1\n",
    "print(filenum)"
   ]
  },
  {
   "cell_type": "code",
   "execution_count": 320,
   "id": "788ae173-8a4e-42aa-a3b5-d0a76ff74473",
   "metadata": {},
   "outputs": [
    {
     "name": "stdout",
     "output_type": "stream",
     "text": [
      "4501\n"
     ]
    }
   ],
   "source": [
    "# Draw Kanizsa Triangles\n",
    "if generateunderContent:\n",
    "    path = root + \"K_Triangle/\"\n",
    "else:\n",
    "    path = \"Kanizsa/K_Triangle/\"\n",
    "\n",
    "filenum = 1\n",
    "gray = (100,100,100)\n",
    "backgroundColor = (255,255,255)\n",
    "for ri in range(0,90,5):\n",
    "    rotate_angle = 0\n",
    "    for angle in range(55,65):\n",
    "        for radius in range(35,60):\n",
    "            im=draw_kanizsa_triangle(angle,150,150,200,100,radius,90,0,gray,backgroundColor)        \n",
    "            padded_num = str(filenum).rjust(6, '0')\n",
    "            filename = path + \"triangle_1_\" + padded_num + \".png\"\n",
    "            im = im.rotate(ri,fillcolor=(255,255,255))\n",
    "            im.save(filename,\"PNG\")\n",
    "            filenum = filenum + 1\n",
    "print(filenum)"
   ]
  },
  {
   "cell_type": "code",
   "execution_count": 321,
   "id": "2589f179-94c4-4d02-942a-fbac015d1a72",
   "metadata": {},
   "outputs": [
    {
     "name": "stdout",
     "output_type": "stream",
     "text": [
      "4051\n"
     ]
    }
   ],
   "source": [
    "# Draw Coloured Kanizsa Squares\n",
    "if generateunderContent:\n",
    "    path = root + \"KC_Square/\"\n",
    "else:\n",
    "    path = \"KanizsaRed/KC_Square/\"\n",
    "filenum = 1\n",
    "gray = (100,100,100)\n",
    "for ri in range(0,90,5):\n",
    "    for angle in range(80,95):\n",
    "        for radius in range(25,40):\n",
    "            fillcolor = getRandColor()\n",
    "            im=draw_kanizsa_square(angle,100,100,100,100,radius,45,0,fillcolor,backgroundColor)     \n",
    "            padded_num = str(filenum).rjust(6, '0')\n",
    "            filename = path + \"square_1_\" + padded_num + \".png\"\n",
    "            im = im.rotate(ri,fillcolor=(255,255,255))\n",
    "            im.save(filename,\"PNG\")\n",
    "            filenum = filenum + 1\n",
    "print(filenum)"
   ]
  },
  {
   "cell_type": "code",
   "execution_count": 322,
   "id": "a9ad7cab-e07d-45e3-b458-c5dfe90d032f",
   "metadata": {},
   "outputs": [
    {
     "name": "stdout",
     "output_type": "stream",
     "text": [
      "4501\n"
     ]
    }
   ],
   "source": [
    "# Draw coloured Kanizsa triangles\n",
    "path = root + \"KC_Triangle/\"\n",
    "\n",
    "\n",
    "filenum = 1\n",
    "gray = (100,100,100)\n",
    "for ri in range(0,90,5):\n",
    "    rotate_angle = 0\n",
    "    for angle in range(55,65):\n",
    "        for radius in range(35,60):\n",
    "            fillcolor = getRandColor()\n",
    "            im=draw_kanizsa_triangle(angle,150,150,200,100,radius,90,0,fillcolor,backgroundColor)        \n",
    "            padded_num = str(filenum).rjust(6, '0')\n",
    "            filename = path + \"triangle_1_\" + padded_num + \".png\"\n",
    "            im = im.rotate(ri,fillcolor=(255,255,255))\n",
    "            im.save(filename,\"PNG\")\n",
    "            filenum = filenum + 1\n",
    "print(filenum)"
   ]
  },
  {
   "cell_type": "markdown",
   "id": "9f83e4a2-576d-43d3-a902-e81489c09ec7",
   "metadata": {},
   "source": [
    "## Generate NON Kanizsa images"
   ]
  },
  {
   "cell_type": "code",
   "execution_count": 323,
   "id": "8435b60c-7a49-44a6-9647-883bd39bcc27",
   "metadata": {},
   "outputs": [
    {
     "name": "stdout",
     "output_type": "stream",
     "text": [
      "4501\n"
     ]
    }
   ],
   "source": [
    "# Draw image with 3 unaligned Kanizsa inducers so that illusory image not created\n",
    "if generateunderContent:\n",
    "    path = root + \"NK_Triangle/\"\n",
    "else:\n",
    "    path = \"NotKanizsa/NK_Triangle/\"\n",
    "filenum = 1\n",
    "gray = (100,100,100)\n",
    "backgroundColor = (255,255,255)\n",
    "for ri in range(0,90,5):\n",
    "    for angle in range(55,65):\n",
    "        for radius in range(35,60):\n",
    "            im=draw_kanizsa_triangle(angle,150,150,200,100,radius,0,0,gray,backgroundColor)        \n",
    "            padded_num = str(filenum).rjust(6, '0')\n",
    "            filename = path + \"triangle_0_\" + padded_num + \".png\"\n",
    "            im = im.rotate(ri,fillcolor=(255,255,255))\n",
    "            im.save(filename,\"PNG\")\n",
    "            filenum = filenum + 1\n",
    "print(filenum)"
   ]
  },
  {
   "cell_type": "code",
   "execution_count": 324,
   "id": "65ad5669-4bb7-47c2-a73b-1ae6b43cfaa1",
   "metadata": {},
   "outputs": [
    {
     "name": "stdout",
     "output_type": "stream",
     "text": [
      "4051\n"
     ]
    }
   ],
   "source": [
    "# Draw image with 4 unaligned Kanizsa inducers so that illusory image not created\n",
    "if generateunderContent:\n",
    "    path = root + \"NK_Square/\"\n",
    "else:\n",
    "    path = \"NotKanizsa/NK_Square/\"\n",
    "filenum = 1\n",
    "backgroundColor = (255,255,255)\n",
    "for ri in range(0,90,5):\n",
    "    for angle in range(90,240,10):\n",
    "        for radius in range(10,40,2):\n",
    "            im=draw_kanizsa_square(angle,100,100,100,100,radius,90,0,0,backgroundColor)     \n",
    "            padded_num = str(filenum).rjust(6, '0')\n",
    "            filename = path + \"square_0_\" + padded_num + \".png\"\n",
    "            im = im.rotate(ri,fillcolor=(255,255,255))\n",
    "            im.save(filename,\"PNG\")\n",
    "            filenum = filenum + 1\n",
    "print(filenum)"
   ]
  },
  {
   "cell_type": "markdown",
   "id": "73cdafce-28a2-4522-9865-d1b98833da55",
   "metadata": {},
   "source": [
    "## Generate Blank coloured images"
   ]
  },
  {
   "cell_type": "code",
   "execution_count": 325,
   "id": "0edbe9f2-632c-47e3-a391-32628a3e307a",
   "metadata": {},
   "outputs": [
    {
     "name": "stdout",
     "output_type": "stream",
     "text": [
      "201\n"
     ]
    }
   ],
   "source": [
    "# Generate set of blank coloured images\n",
    "root = \"Noise/\"\n",
    "path = root + \"Noise_Sq/\"\n",
    "black = (0,0,0)\n",
    "white = (255,255,255)\n",
    "gray = (100,100,100)\n",
    "colors = ['red','orange','yellow','green','blue','indigo','violet',black,white,gray]\n",
    "ri = 0\n",
    "filenum = 1\n",
    "object_type = 'Fill'\n",
    "for i in range(0,20):\n",
    "    for colorindex in range(0,10):\n",
    "# Parameters for draw_square\n",
    "# draw_square(xLength,yLength,xOrigin,yOrigin,scale,object_type(fill or outline),fillcolor,outlinecolor,lineWidth)\n",
    "        im=draw_empty_square(10,10,220,220,1,'Fill',colors[colorindex],gray,1)\n",
    "        padded_num = str(filenum).rjust(6, '0')\n",
    "        filename = path + \"square_1_\" + padded_num + \".png\"\n",
    "#        im = im.rotate(ri,fillcolor=(255,255,255))\n",
    "        im.save(filename,\"PNG\")\n",
    "        filenum = filenum + 1\n",
    "print(filenum)"
   ]
  },
  {
   "cell_type": "code",
   "execution_count": 326,
   "id": "5e41bc66-0aa0-42ae-8e55-452817cbb13d",
   "metadata": {},
   "outputs": [
    {
     "name": "stdout",
     "output_type": "stream",
     "text": [
      "201\n"
     ]
    }
   ],
   "source": [
    "# Generate set of blank coloured images. Identical to above but labelled triangles!\n",
    "root = \"Noise/\"\n",
    "path = root + \"Noise_T/\"\n",
    "black = (0,0,0)\n",
    "white = (255,255,255)\n",
    "gray = (100,100,100)\n",
    "colors = ['red','orange','yellow','green','blue','indigo','violet',black,white,gray]\n",
    "ri = 0\n",
    "filenum = 1\n",
    "object_type = 'Fill'\n",
    "for i in range(0,20):\n",
    "    for colorindex in range(0,10):\n",
    "# Parameters for draw_square\n",
    "# draw_square(xLength,yLength,xOrigin,yOrigin,scale,object_type(fill or outline),fillcolor,outlinecolor,lineWidth)\n",
    "        im=draw_empty_square(10,10,220,220,1,'Fill',colors[colorindex],gray,1)\n",
    "        padded_num = str(filenum).rjust(6, '0')\n",
    "        filename = path + \"square_1_\" + padded_num + \".png\"\n",
    "#        im = im.rotate(ri,fillcolor=(255,255,255))\n",
    "        im.save(filename,\"PNG\")\n",
    "        filenum = filenum + 1\n",
    "print(filenum)"
   ]
  },
  {
   "cell_type": "markdown",
   "id": "be7125ad-b68c-4c14-bbac-4b6a0b52d0af",
   "metadata": {},
   "source": [
    "# Reverse Examples for Test"
   ]
  },
  {
   "cell_type": "code",
   "execution_count": 327,
   "id": "8b6043f7-8a65-479e-bc94-2ce8edeadb29",
   "metadata": {},
   "outputs": [
    {
     "name": "stdout",
     "output_type": "stream",
     "text": [
      "4051\n"
     ]
    }
   ],
   "source": [
    "# Generate Reversed filled Squares. Squares are scaled and rotated.\n",
    "path = \"ReverseFilled/Square/\"\n",
    "\n",
    "ri = 0\n",
    "filenum = 1\n",
    "object_type = 'Fill'\n",
    "white = (255,255,255)\n",
    "backgroundColor = (0,0,0)\n",
    "for ri in range(0,90,2):\n",
    "    for scale in range(50,140):\n",
    "# Parameters for draw_square\n",
    "# draw_square(xLength,yLength,xOrigin,yOrigin,scale,object_type(fill or outline),fillcolor,outlinecolor,lineWidth)\n",
    "        im=draw_square(100,100,50,50,scale,'Fill',white,white,1,backgroundColor)\n",
    "        padded_num = str(filenum).rjust(6, '0')\n",
    "        filename = path + \"square_1_\" + padded_num + \".png\"\n",
    "        im = im.rotate(ri,fillcolor=backgroundColor)\n",
    "        im.save(filename,\"PNG\")\n",
    "        filenum = filenum + 1\n",
    "print(filenum)"
   ]
  },
  {
   "cell_type": "code",
   "execution_count": 328,
   "id": "d84c2b22-813b-4772-8c47-4e100bbcb760",
   "metadata": {},
   "outputs": [
    {
     "name": "stdout",
     "output_type": "stream",
     "text": [
      "4501\n"
     ]
    }
   ],
   "source": [
    "# Draw reversed regular filled triangle shapes with scale, angle and rotation\n",
    "path = \"ReverseFilled/Triangle/\"\n",
    "ri = 0\n",
    "white = (255,255,255)\n",
    "backgroundColor = (0,0,0)\n",
    "filenum = 1\n",
    "for ri in range(0,90,5):\n",
    "    for angle in range(40,90,5):\n",
    "        for scale in range(50,125,3):\n",
    "# draw_triangle param\n",
    "# (angle,xLength,yLength,xOrigin,yOrigin,scale,object_type,fillcolor,outlinecolor,linewidth)\n",
    "            im=draw_triangle(angle,150,150,150,50,scale,'Fill',white,white,1,backgroundColor)\n",
    "            padded_num = str(filenum).rjust(6, '0')\n",
    "            filename = path + \"triangle_1_\" + padded_num + \".png\"\n",
    "            im = im.rotate(ri,fillcolor=backgroundColor)\n",
    "            im.save(filename,\"PNG\")\n",
    "            filenum = filenum + 1\n",
    "print(filenum)"
   ]
  },
  {
   "cell_type": "code",
   "execution_count": 329,
   "id": "34d0274a-8925-4897-88da-8926c5302a95",
   "metadata": {},
   "outputs": [
    {
     "name": "stdout",
     "output_type": "stream",
     "text": [
      "4051\n"
     ]
    }
   ],
   "source": [
    "# Draw reverse Kanizsa Squares\n",
    "path = \"ReverseKanizsa/Square/\"\n",
    "filenum = 1\n",
    "gray = (100,100,100)\n",
    "white = (255,255,255)\n",
    "backgroundColor = (0,0,0)\n",
    "for ri in range(0,90,5):\n",
    "    for angle in range(80,95):\n",
    "        for radius in range(25,40):\n",
    "            im=draw_kanizsa_square(angle,100,100,100,100,radius,45,0,white,backgroundColor)     \n",
    "            padded_num = str(filenum).rjust(6, '0')\n",
    "            filename = path + \"square_1_\" + padded_num + \".png\"\n",
    "            im = im.rotate(ri,fillcolor=(0,0,0))\n",
    "            im.save(filename,\"PNG\")\n",
    "            filenum = filenum + 1\n",
    "print(filenum)"
   ]
  },
  {
   "cell_type": "code",
   "execution_count": 330,
   "id": "dcb7d378-bce3-4a09-b696-8fecbd0f2646",
   "metadata": {},
   "outputs": [
    {
     "name": "stdout",
     "output_type": "stream",
     "text": [
      "4501\n"
     ]
    }
   ],
   "source": [
    "# Draw Reverse Kanizsa Triangles\n",
    "path = \"ReverseKanizsa/Triangle/\"\n",
    "\n",
    "\n",
    "filenum = 1\n",
    "gray = (100,100,100)\n",
    "white = (255,255,255)\n",
    "backgroundColor = (0,0,0)\n",
    "for ri in range(0,90,5):\n",
    "    rotate_angle = 0\n",
    "    for angle in range(55,65):\n",
    "        for radius in range(35,60):\n",
    "            im=draw_kanizsa_triangle(angle,150,150,200,100,radius,90,0,white,backgroundColor)        \n",
    "            padded_num = str(filenum).rjust(6, '0')\n",
    "            filename = path + \"triangle_1_\" + padded_num + \".png\"\n",
    "            im = im.rotate(ri,fillcolor=(0,0,0))\n",
    "            im.save(filename,\"PNG\")\n",
    "            filenum = filenum + 1\n",
    "print(filenum)"
   ]
  },
  {
   "cell_type": "code",
   "execution_count": null,
   "id": "1fffa28e-694c-40c8-be82-f0dcb4fe85b4",
   "metadata": {},
   "outputs": [],
   "source": []
  },
  {
   "cell_type": "code",
   "execution_count": null,
   "id": "6d95450b-63a1-4757-afae-5850a2ec59be",
   "metadata": {},
   "outputs": [],
   "source": []
  },
  {
   "cell_type": "code",
   "execution_count": null,
   "id": "7ec42988-f607-460e-bfc1-4743f244bb4a",
   "metadata": {},
   "outputs": [],
   "source": []
  }
 ],
 "metadata": {
  "kernelspec": {
   "display_name": "Python 3 (ipykernel)",
   "language": "python",
   "name": "python3"
  },
  "language_info": {
   "codemirror_mode": {
    "name": "ipython",
    "version": 3
   },
   "file_extension": ".py",
   "mimetype": "text/x-python",
   "name": "python",
   "nbconvert_exporter": "python",
   "pygments_lexer": "ipython3",
   "version": "3.10.12"
  }
 },
 "nbformat": 4,
 "nbformat_minor": 5
}
