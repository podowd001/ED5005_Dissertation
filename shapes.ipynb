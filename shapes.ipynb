{
 "cells": [
  {
   "cell_type": "markdown",
   "id": "2abd3cd7-805d-41ca-af4b-8a34bbefba42",
   "metadata": {},
   "source": [
    "# Name : Pat O'Dowd"
   ]
  },
  {
   "cell_type": "markdown",
   "id": "18cfa2f3-0bd4-428b-a507-50fabba8a527",
   "metadata": {},
   "source": [
    "# Number : 8273375"
   ]
  },
  {
   "cell_type": "markdown",
   "id": "9eea1f9d-0340-43f1-80cf-33a3622dbec3",
   "metadata": {},
   "source": [
    "### shapes.ipynb\n",
    "Generation of geometric shapes including Kanizsa Triangles and Squareas"
   ]
  },
  {
   "cell_type": "code",
   "execution_count": 2,
   "id": "3f7e9c41-3fc8-46cc-9a2c-35c5f0d7ff93",
   "metadata": {},
   "outputs": [],
   "source": [
    "# import libraries\n",
    "import math\n",
    "import matplotlib.pyplot as plt\n",
    "from PIL import Image,ImageDraw\n",
    "import random\n"
   ]
  },
  {
   "cell_type": "code",
   "execution_count": 3,
   "id": "b4821665-5955-4b4c-8010-cd57ffd96112",
   "metadata": {},
   "outputs": [],
   "source": [
    "# Get random colours from a fixed pallette.\n",
    "def getRandColor():\n",
    "    black = (0,0,0)\n",
    "    white = (255,255,255)\n",
    "    gray = (100,100,100)\n",
    "    colors = ['red','orange','yellow','green','blue','indigo','violet',black,white,gray]\n",
    "    randnum = random.randint(0, 9)\n",
    "    return colors[randnum]"
   ]
  },
  {
   "cell_type": "code",
   "execution_count": 4,
   "id": "92a0778b-7133-4677-873b-c6ff54f00ee9",
   "metadata": {},
   "outputs": [],
   "source": [
    "# Rotate a point about an angle. Used to calclate the vertices of a triangle.\n",
    "def rotate_point(angle,ox,oy,length1,length2):\n",
    "    radians = math.radians(angle)/2\n",
    "\n",
    "    x = 0\n",
    "    y = length1\n",
    "    px= x * math.cos(radians) - y * math.sin(radians)\n",
    "    py= x * math.sin(radians) + y * math.cos(radians)\n",
    "    y - length2\n",
    "    qx= x * math.cos(-radians) - y * math.sin(-radians)\n",
    "    qy= x * math.sin(-radians) + y * math.cos(-radians)\n",
    "    px = px + ox\n",
    "    py = py + oy\n",
    "    qx = qx + ox\n",
    "    qy = qy + oy\n",
    "\n",
    "    return px,py,qx,qy\n"
   ]
  },
  {
   "cell_type": "code",
   "execution_count": 5,
   "id": "41234acb-fa10-4ea9-89d2-7b32611ef99f",
   "metadata": {},
   "outputs": [],
   "source": [
    "# Get triangle coordinates\n",
    "def get_triangle_coords(length1,length2,angle,origin):\n",
    "    ox,oy = origin\n",
    "\n",
    "    rot_px,rot_py,rot_qx,rot_qy = rotate_point(angle,ox,oy,length1,length2)\n",
    "    return rot_px,rot_py,rot_qx,rot_qy\n",
    "    "
   ]
  },
  {
   "cell_type": "code",
   "execution_count": 6,
   "id": "f696a77c-cb0d-487e-a7d8-3a8f1c286d8d",
   "metadata": {},
   "outputs": [],
   "source": [
    "# Get Rectangle coordinates\n",
    "#def get_rectangle_coords(length1,length2,angle,origin):\n",
    "#    ox,oy = origin\n",
    "\n",
    "    \n",
    "\n",
    "#    rot_px,rot_py,rot_qx,rot_qy = rotate_point(angle,ox,oy,length1,length2)\n",
    "#    return rot_px,rot_py,rot_qx,rot_qy,rot_rx,rot_ry\n",
    "    "
   ]
  },
  {
   "cell_type": "code",
   "execution_count": 7,
   "id": "770e8a2a-b36e-491b-a528-d048e0a7c260",
   "metadata": {},
   "outputs": [],
   "source": [
    "# Draw pie slices - 'pacman' inducer shapes.\n",
    "def draw_pieslices(ox,oy,px,py,qx,qy,angle,radius,im,fillcolor):\n",
    "    draw = ImageDraw.Draw(im)\n",
    "    startx = ox - radius\n",
    "    starty = oy - radius\n",
    "    endx = ox + radius\n",
    "    endy = oy + radius\n",
    "        \n",
    "    draw.pieslice([(startx,starty),(endx,endy)],-240,60,(100,100,100),fill=fillcolor)\n",
    "\n",
    "    return im\n",
    "    "
   ]
  },
  {
   "cell_type": "code",
   "execution_count": 8,
   "id": "03a9d5de-038f-47ac-929e-7be9b66fc16c",
   "metadata": {},
   "outputs": [],
   "source": [
    "# Draw Kanizsa triangle\n",
    "def draw_kanizsa_triangle(primary_angle,len1,len2,ox,oy,radius,rotation,noise,fillcolor):\n",
    "    im = Image.new(mode = \"RGB\",size = (400,300),color = (255,255,255))\n",
    "\n",
    "    px,py,qx,qy = get_triangle_coords(len1,len2,primary_angle,[ox,oy])\n",
    "    draw = ImageDraw.Draw(im)\n",
    "#    draw.polygon([(ox,oy),(px,py),(qx,qy),(ox,oy)],(200,200,200))\n",
    "#    draw_pieslices(ox,oy,px,py,qx,qy,angle,rotation,im)\n",
    "    \n",
    "    draw = ImageDraw.Draw(im)\n",
    "    startx = ox - radius\n",
    "    starty = oy - radius\n",
    "    endx = ox + radius\n",
    "    endy = oy + radius\n",
    "    start_angle = rotation +  primary_angle/2 + noise\n",
    "    end_angle = rotation -  primary_angle/2 + noise\n",
    "\n",
    "    draw.pieslice([(startx,starty),(endx,endy)],start_angle,end_angle,fillcolor)\n",
    "\n",
    "    startx = px - radius\n",
    "    starty = py - radius\n",
    "    endx = px + radius\n",
    "    endy = py + radius\n",
    "    start_angle = rotation + 180 + primary_angle + primary_angle/2 + noise\n",
    "    end_angle = rotation + 180 + primary_angle - primary_angle/2 + noise\n",
    "    draw.pieslice([(startx,starty),(endx,endy)],start_angle,end_angle,fillcolor)\n",
    "\n",
    "    startx = qx - radius\n",
    "    starty = qy - radius\n",
    "    endx = qx + radius\n",
    "    endy = qy + radius\n",
    "    start_angle = rotation + 180 - primary_angle + primary_angle/2  + noise\n",
    "    end_angle = rotation + 180 - primary_angle - primary_angle/2  + noise\n",
    "        \n",
    "    draw.pieslice([(startx,starty),(endx,endy)],start_angle,end_angle,fillcolor)\n",
    "    \n",
    "    return im\n"
   ]
  },
  {
   "cell_type": "code",
   "execution_count": 9,
   "id": "87e978aa-a90b-4cd7-9da8-cbc93b8f64b1",
   "metadata": {},
   "outputs": [],
   "source": [
    "# Draw regular triangle\n",
    "def draw_triangle(primary_angle,len1,len2,ox,oy,scale,object_type,fillcolor,outlinecolor,lineWidth):\n",
    "    im = Image.new(mode = \"RGB\",size = (400,300),color = (255,255,255))\n",
    "    scale = scale / 100\n",
    "    backgroundColor = (255,255,255)\n",
    "    px,py,qx,qy = get_triangle_coords(len1,len2,primary_angle,[ox,oy])\n",
    "    draw = ImageDraw.Draw(im)\n",
    "#    draw_pieslices(ox,oy,px,py,qx,qy,angle,rotation,im)\n",
    "    draw = ImageDraw.Draw(im)\n",
    "    if object_type == \"Outline\":\n",
    "        draw.polygon([(ox * scale,oy * scale),(px * scale,py * scale),(qx * scale,qy * scale)],width=lineWidth,fill=backgroundColor,outline=outlinecolor)\n",
    "    else:\n",
    "        draw.polygon([(ox * scale,oy * scale),(px * scale,py * scale),(qx * scale,qy * scale)],width=lineWidth,fill=fillcolor,outline=outlinecolor)\n",
    "\n",
    "        \n",
    "    \n",
    "    return im\n"
   ]
  },
  {
   "cell_type": "code",
   "execution_count": 10,
   "id": "5dda1fd1-8a40-4ca3-bdba-9680baf3f7ab",
   "metadata": {},
   "outputs": [],
   "source": [
    "# Draw Kanizsa Square\n",
    "def draw_kanizsa_square(primary_angle,len1,len2,ox,oy,radius,rotation,noise,fill_color):\n",
    "    im = Image.new(mode = \"RGB\",size = (300,300),color = (255,255,255))\n",
    "\n",
    "\n",
    "    px = ox \n",
    "    py = oy + len2\n",
    "\n",
    "    qx = ox + len1\n",
    "    qy = oy\n",
    "\n",
    "    rx = ox + len1\n",
    "    ry = oy + len2\n",
    "\n",
    "\n",
    "    draw = ImageDraw.Draw(im)\n",
    "#    draw.polygon([(ox,oy),(px,py),(qx,qy),(ox,oy)],(200,200,200))\n",
    "#    draw_pieslices(ox,oy,px,py,qx,qy,angle,rotation,im)\n",
    "    draw = ImageDraw.Draw(im)\n",
    "\n",
    "    startx = px - radius\n",
    "    starty = py - radius\n",
    "    endx = px + radius\n",
    "    endy = py + radius\n",
    "    start_angle = rotation - 90 + primary_angle/2 - noise \n",
    "    end_angle = rotation - 90  - primary_angle/2 - noise \n",
    "    draw.pieslice([(startx,starty),(endx,endy)],start_angle,end_angle,fill_color)\n",
    "\n",
    "    startx = ox - radius\n",
    "    starty = oy - radius\n",
    "    endx = ox + radius\n",
    "    endy = oy + radius\n",
    "    start_angle = rotation +  primary_angle/2 - noise\n",
    "    end_angle = rotation -  primary_angle/2 - noise \n",
    "        \n",
    "    draw.pieslice([(startx,starty),(endx,endy)],start_angle,end_angle,fill_color)\n",
    "\n",
    "\n",
    "    startx = qx - radius\n",
    "    starty = qy - radius\n",
    "    endx = qx + radius\n",
    "    endy = qy + radius\n",
    "    start_angle = rotation + 90  + primary_angle/2 + noise \n",
    "    end_angle = rotation + 90 - primary_angle/2 + noise  \n",
    "        \n",
    "    draw.pieslice([(startx,starty),(endx,endy)],start_angle,end_angle,fill_color)\n",
    "\n",
    "    startx = rx - radius\n",
    "    starty = ry - radius\n",
    "    endx = rx + radius\n",
    "    endy = ry + radius\n",
    "    start_angle = rotation + 180  + primary_angle/2 + noise \n",
    "    end_angle = rotation + 180 - primary_angle/2 + noise \n",
    "        \n",
    "    draw.pieslice([(startx,starty),(endx,endy)],start_angle,end_angle,fill_color)\n",
    "\n",
    "#    im = im.rotate(ri,expand=True)\n",
    "    \n",
    "    return im\n"
   ]
  },
  {
   "cell_type": "code",
   "execution_count": 16,
   "id": "03f2d8d9-c0c4-44da-9152-3512fa430974",
   "metadata": {},
   "outputs": [],
   "source": [
    "# Draw Regular Square\n",
    "def draw_square(len1,len2,ox,oy,scale,object_type,fillcolor,outlinecolor,lineWidth):\n",
    "    backgroundColor = (255,255,255)\n",
    "\n",
    "\n",
    "    im = Image.new(mode = \"RGB\",size = (300,300),color = backgroundColor)\n",
    "    backgroundColor = getRandColor()\n",
    "    scale = scale / 100\n",
    "    px = ox \n",
    "    py = oy + len2\n",
    "\n",
    "    qx = ox + len1\n",
    "    qy = oy\n",
    "\n",
    "    rx = ox + len1\n",
    "    ry = oy + len2\n",
    "    backgroundColor = (255,255,255)\n",
    "    draw = ImageDraw.Draw(im)\n",
    "#    outlinecolor = (1,1,1)\n",
    "    if object_type == \"Outline\":\n",
    "        draw.polygon([(ox * scale,oy * scale),(px * scale,py* scale),(rx* scale,ry* scale),(qx* scale,qy* scale)],fill=fillcolor,width=lineWidth,outline=outlinecolor)\n",
    "    else:\n",
    "        draw.polygon([(ox * scale,oy * scale),(px * scale,py* scale),(rx* scale,ry* scale),(qx* scale,qy* scale)],fill=fillcolor,width=lineWidth,outline=outlinecolor)\n",
    "    \n",
    "    return im\n"
   ]
  },
  {
   "cell_type": "code",
   "execution_count": 17,
   "id": "9ceb2432-6492-4b18-b7ba-2244a74b8b81",
   "metadata": {},
   "outputs": [],
   "source": [
    "# Draw Regular Square\n",
    "def draw_empty_square(len1,len2,ox,oy,scale,object_type,fillcolor,outlinecolor,lineWidth):\n",
    "    backgroundColor = getRandColor()\n",
    "\n",
    "\n",
    "\n",
    "    im = Image.new(mode = \"RGB\",size = (300,300),color = fillcolor)\n",
    "    \n",
    "    return im\n"
   ]
  },
  {
   "cell_type": "code",
   "execution_count": 20,
   "id": "a94141dc-381d-48da-bafc-e96a285d0c1d",
   "metadata": {},
   "outputs": [
    {
     "data": {
      "text/plain": [
       "<matplotlib.image.AxesImage at 0x7c92c9e3c700>"
      ]
     },
     "execution_count": 20,
     "metadata": {},
     "output_type": "execute_result"
    },
    {
     "data": {
      "image/png": "[encoded data removed]",
      "text/plain": [
       "<Figure size 800x800 with 1 Axes>"
      ]
     },
     "metadata": {},
     "output_type": "display_data"
    }
   ],
   "source": [
    "# Display Sample Square\n",
    "import matplotlib.transforms as mtransforms\n",
    "ox = 10\n",
    "oy = 10\n",
    "len1 = 220\n",
    "len2 = 220\n",
    "scale = 100\n",
    "outlinecolor = (100,100,100)\n",
    "fillcolor = getRandColor()\n",
    "fillcolor = (100,100,100)\n",
    "lineWidth = 1\n",
    "object_type = 'Fill'\n",
    "im=draw_square(len1,len2,ox,oy,scale,object_type,fillcolor,outlinecolor,lineWidth)\n",
    "plt.figure(figsize=(8,8))\n",
    "\n",
    "plt.imshow(im)\n"
   ]
  },
  {
   "cell_type": "code",
   "execution_count": 21,
   "id": "50a41c55-6452-4601-b1fe-c92e71b5b140",
   "metadata": {},
   "outputs": [
    {
     "data": {
      "text/plain": [
       "<matplotlib.image.AxesImage at 0x7c92c9e98a60>"
      ]
     },
     "execution_count": 21,
     "metadata": {},
     "output_type": "execute_result"
    },
    {
     "data": {
      "image/png": "[encoded data removed]",
      "text/plain": [
       "<Figure size 800x800 with 1 Axes>"
      ]
     },
     "metadata": {},
     "output_type": "display_data"
    }
   ],
   "source": [
    "# Draw sample triangle\n",
    "ox = 200\n",
    "oy = 100\n",
    "ox = 150\n",
    "oy = 50\n",
    "\n",
    "angle = 45\n",
    "radius = 65\n",
    "len1 = 150\n",
    "len2 = 150\n",
    "rotation =90\n",
    "noise = 0\n",
    "ri = 45\n",
    "scale =125\n",
    "outlinecolor = (100,100,100)\n",
    "fillcolor = getRandColor()\n",
    "fillcolor = (100,100,100)\n",
    "\n",
    "im=draw_triangle(angle,len1,len2,ox,oy,scale,'Outline',fillcolor,outlinecolor,lineWidth)\n",
    "\n",
    "plt.figure(figsize=(8,8))\n",
    "\n",
    "plt.imshow(im)\n"
   ]
  },
  {
   "cell_type": "code",
   "execution_count": 23,
   "id": "c992528d-5c1f-41aa-8c45-c91d8f6e4c99",
   "metadata": {},
   "outputs": [
    {
     "data": {
      "text/plain": [
       "<matplotlib.image.AxesImage at 0x7c92c99ab2e0>"
      ]
     },
     "execution_count": 23,
     "metadata": {},
     "output_type": "execute_result"
    },
    {
     "data": {
      "image/png": "[encoded data removed]",
      "text/plain": [
       "<Figure size 800x800 with 1 Axes>"
      ]
     },
     "metadata": {},
     "output_type": "display_data"
    }
   ],
   "source": [
    "# Draw sample Kanizsa Triangle\n",
    "\n",
    "num = 1\n",
    "ox = 200\n",
    "oy = 100\n",
    "angle = 60\n",
    "radius = 35\n",
    "len1 = 150\n",
    "len2 = 150\n",
    "rotation = 90\n",
    "noise = 0\n",
    "ri = 0\n",
    "gray = (100,100,100)\n",
    "\n",
    "im=draw_kanizsa_triangle(angle,150,150,200,100,radius,90,0,gray)        \n",
    "\n",
    "\n",
    "plt.figure(figsize=(8,8))\n",
    "\n",
    "plt.imshow(im)\n"
   ]
  },
  {
   "cell_type": "code",
   "execution_count": 24,
   "id": "a60fd048-5d07-4954-8d8a-e1cce797d3c2",
   "metadata": {},
   "outputs": [
    {
     "data": {
      "text/plain": [
       "<matplotlib.image.AxesImage at 0x7c92c9a8ca00>"
      ]
     },
     "execution_count": 24,
     "metadata": {},
     "output_type": "execute_result"
    },
    {
     "data": {
      "image/png": "[encoded data removed]",
      "text/plain": [
       "<Figure size 800x800 with 1 Axes>"
      ]
     },
     "metadata": {},
     "output_type": "display_data"
    }
   ],
   "source": [
    "# Draw sample Kanizsa Square\n",
    "\n",
    "num = 1\n",
    "ox = 100\n",
    "oy = 100\n",
    "angle = 90\n",
    "radius = 35\n",
    "len1 = 100\n",
    "len2 = 100\n",
    "rotation = 45\n",
    "noise = 0\n",
    "ri = 0\n",
    "gray = (100,100,100)\n",
    "im=draw_kanizsa_square(angle,100,100,100,100,radius,45,0,gray)     \n",
    "\n",
    "plt.figure(figsize=(8,8))\n",
    "\n",
    "plt.imshow(im)\n"
   ]
  },
  {
   "cell_type": "code",
   "execution_count": 33,
   "id": "58047b32-a7df-42f9-a22c-77c954cf0119",
   "metadata": {},
   "outputs": [],
   "source": [
    "# Set rod directory for saving images.\n",
    "root = \"Content/\""
   ]
  },
  {
   "cell_type": "code",
   "execution_count": 34,
   "id": "0d4991b5-2c64-4cb9-bfe4-1566545d912c",
   "metadata": {},
   "outputs": [
    {
     "name": "stdout",
     "output_type": "stream",
     "text": [
      "4051\n"
     ]
    }
   ],
   "source": [
    "# Generate filled Squares. Squares are scaled and rotated.\n",
    "path = root + \"Square/\"\n",
    "\n",
    "ri = 0\n",
    "filenum = 1\n",
    "object_type = 'Fill'\n",
    "gray = (100,100,100)\n",
    "for ri in range(0,90,2):\n",
    "    for scale in range(50,140):\n",
    "# Parameters for draw_square\n",
    "# draw_square(xLength,yLength,xOrigin,yOrigin,scale,object_type(fill or outline),fillcolor,outlinecolor,lineWidth)\n",
    "        im=draw_square(100,100,50,50,scale,'Fill',gray,gray,1)\n",
    "        padded_num = str(filenum).rjust(6, '0')\n",
    "        filename = path + \"square_1_\" + padded_num + \".png\"\n",
    "        im = im.rotate(ri,fillcolor=(255,255,255))\n",
    "        im.save(filename,\"PNG\")\n",
    "        filenum = filenum + 1\n",
    "print(filenum)"
   ]
  },
  {
   "cell_type": "code",
   "execution_count": 35,
   "id": "a6a56346-2475-4ed6-8e3d-54862df49f05",
   "metadata": {},
   "outputs": [
    {
     "name": "stdout",
     "output_type": "stream",
     "text": [
      "4501\n"
     ]
    }
   ],
   "source": [
    "# Draw regular filled triangle shapes with scale, angle and rotation\n",
    "path = root + \"Triangle/\"\n",
    "ri = 0\n",
    "gray = (100,100,100)\n",
    "filenum = 1\n",
    "for ri in range(0,90,5):\n",
    "    for angle in range(40,90,5):\n",
    "        for scale in range(50,125,3):\n",
    "# draw_triangle param\n",
    "# (angle,xLength,yLength,xOrigin,yOrigin,scale,object_type,fillcolor,outlinecolor,linewidth)\n",
    "            im=draw_triangle(angle,150,150,150,50,scale,'Fill',gray,gray,1)\n",
    "            padded_num = str(filenum).rjust(6, '0')\n",
    "            filename = path + \"triangle_1_\" + padded_num + \".png\"\n",
    "            im = im.rotate(ri,fillcolor=(255,255,255))\n",
    "            im.save(filename,\"PNG\")\n",
    "            filenum = filenum + 1\n",
    "print(filenum)"
   ]
  },
  {
   "cell_type": "code",
   "execution_count": 36,
   "id": "5bb38e0f-e7fd-4f56-bd8e-40bb98277830",
   "metadata": {},
   "outputs": [
    {
     "name": "stdout",
     "output_type": "stream",
     "text": [
      "4051\n"
     ]
    }
   ],
   "source": [
    "# Generate coloured filled Squares. Squares are scaled and rotated.\n",
    "path = root + \"C_Square/\"\n",
    "\n",
    "ri = 0\n",
    "filenum = 1\n",
    "object_type = 'Fill'\n",
    "gray = (100,100,100)\n",
    "for ri in range(0,90,2):\n",
    "    for scale in range(50,140):\n",
    "# Parameters for draw_square\n",
    "# draw_square(xLength,yLength,xOrigin,yOrigin,scale,object_type(fill or outline),fillcolor,outlinecolor,lineWidth)\n",
    "        fillcolor = getRandColor()\n",
    "        im=draw_square(100,100,50,50,scale,'Fill',fillcolor,gray,1)\n",
    "        padded_num = str(filenum).rjust(6, '0')\n",
    "        filename = path + \"square_1_\" + padded_num + \".png\"\n",
    "        im = im.rotate(ri,fillcolor=(255,255,255))\n",
    "        im.save(filename,\"PNG\")\n",
    "        filenum = filenum + 1\n",
    "print(filenum)"
   ]
  },
  {
   "cell_type": "code",
   "execution_count": 37,
   "id": "88623475-a858-49d2-9c5d-414561bdb3ac",
   "metadata": {},
   "outputs": [
    {
     "name": "stdout",
     "output_type": "stream",
     "text": [
      "4501\n"
     ]
    }
   ],
   "source": [
    "# Draw coloured filled triangle shapes with scale, angle and rotation\n",
    "path = root + \"C_Triangle/\"\n",
    "ri = 0\n",
    "gray = (100,100,100)\n",
    "filenum = 1\n",
    "for ri in range(0,90,5):\n",
    "    for angle in range(40,90,5):\n",
    "        for scale in range(50,125,3):\n",
    "# draw_triangle param\n",
    "# (angle,xLength,yLength,xOrigin,yOrigin,scale,object_type,fillcolor,outlinecolor,linewidth)\n",
    "            fillcolor = getRandColor()\n",
    "            im=draw_triangle(angle,150,150,150,50,scale,'Fill',fillcolor,gray,1)\n",
    "            padded_num = str(filenum).rjust(6, '0')\n",
    "            filename = path + \"triangle_1_\" + padded_num + \".png\"\n",
    "            im = im.rotate(ri,fillcolor=(255,255,255))\n",
    "            im.save(filename,\"PNG\")\n",
    "            filenum = filenum + 1\n",
    "print(filenum)"
   ]
  },
  {
   "cell_type": "code",
   "execution_count": 38,
   "id": "b5db36b0-95c3-48ba-9e10-def4c8334acf",
   "metadata": {},
   "outputs": [
    {
     "name": "stdout",
     "output_type": "stream",
     "text": [
      "4051\n"
     ]
    }
   ],
   "source": [
    "# Generate outline Squares. Squares are scaled and rotated.\n",
    "\n",
    "path = root + \"O_Square/\"\n",
    "ri = 0\n",
    "filenum = 1\n",
    "gray = (100,100,100)\n",
    "for ri in range(0,90,2):\n",
    "    for scale in range(50,140):\n",
    "# Parameters for draw_square\n",
    "# draw_square(xLength,yLength,xOrigin,yOrigin,scale,object_type(fill or outline),fillcolor,outlinecolor,lineWidth)\n",
    "        im=draw_square(100,100,50,50,scale,'Outline',gray,gray,3)\n",
    "        padded_num = str(filenum).rjust(6, '0')\n",
    "        filename = path + \"square_1_\" + padded_num + \".png\"\n",
    "        im = im.rotate(ri,fillcolor=(255,255,255))\n",
    "        im.save(filename,\"PNG\")\n",
    "        filenum = filenum + 1\n",
    "print(filenum)"
   ]
  },
  {
   "cell_type": "code",
   "execution_count": 39,
   "id": "cf03bde3-7141-49aa-86df-6b2a86da171d",
   "metadata": {},
   "outputs": [
    {
     "name": "stdout",
     "output_type": "stream",
     "text": [
      "4051\n"
     ]
    }
   ],
   "source": [
    "# Generate thick outline Squares. Squares are scaled and rotated.\n",
    "\n",
    "path = root + \"OT_Square/\"\n",
    "ri = 0\n",
    "filenum = 1\n",
    "gray = (100,100,100)\n",
    "for ri in range(0,90,2):\n",
    "    for scale in range(50,140):\n",
    "# Parameters for draw_square\n",
    "# draw_square(xLength,yLength,xOrigin,yOrigin,scale,object_type(fill or outline),fillcolor,outlinecolor,lineWidth)\n",
    "        im=draw_square(100,100,50,50,scale,'Outline',gray,gray,10)\n",
    "        padded_num = str(filenum).rjust(6, '0')\n",
    "        filename = path + \"square_1_\" + padded_num + \".png\"\n",
    "        im = im.rotate(ri,fillcolor=(255,255,255))\n",
    "        im.save(filename,\"PNG\")\n",
    "        filenum = filenum + 1\n",
    "print(filenum)"
   ]
  },
  {
   "cell_type": "code",
   "execution_count": 40,
   "id": "c2914fbb-e303-43ab-a3f8-b34cd9fc6cce",
   "metadata": {},
   "outputs": [
    {
     "name": "stdout",
     "output_type": "stream",
     "text": [
      "4501\n"
     ]
    }
   ],
   "source": [
    "# Draw regular outline triangle shapes with scale, angle and rotation\n",
    "\n",
    "path = root + \"O_Triangle/\"\n",
    "\n",
    "filenum = 1\n",
    "gray = (100,100,100)\n",
    "for ri in range(0,90,5):\n",
    "    for angle in range(40,90,5):\n",
    "        for scale in range(50,125,3):\n",
    "            im=draw_triangle(angle,150,150,150,50,scale,'Outline',gray,gray,3)\n",
    "            padded_num = str(filenum).rjust(6, '0')\n",
    "            filename = path + \"triangle_1_\" + padded_num + \".png\"\n",
    "            im = im.rotate(ri,fillcolor=(255,255,255))\n",
    "            im.save(filename,\"PNG\")\n",
    "            filenum = filenum + 1\n",
    "print(filenum)"
   ]
  },
  {
   "cell_type": "code",
   "execution_count": 41,
   "id": "d7d88260-3afc-4a16-9df6-a16d2d1f9730",
   "metadata": {},
   "outputs": [
    {
     "name": "stdout",
     "output_type": "stream",
     "text": [
      "4501\n"
     ]
    }
   ],
   "source": [
    "# Draw regular thick outline triangle shapes with scale, angle and rotation\n",
    "\n",
    "path = root + \"OT_Triangle/\"\n",
    "\n",
    "filenum = 1\n",
    "gray = (100,100,100)\n",
    "for ri in range(0,90,5):\n",
    "    for angle in range(40,90,5):\n",
    "        for scale in range(50,125,3):\n",
    "            im=draw_triangle(angle,150,150,150,50,scale,'Outline',gray,gray,10)\n",
    "            padded_num = str(filenum).rjust(6, '0')\n",
    "            filename = path + \"triangle_1_\" + padded_num + \".png\"\n",
    "            im = im.rotate(ri,fillcolor=(255,255,255))\n",
    "            im.save(filename,\"PNG\")\n",
    "            filenum = filenum + 1\n",
    "print(filenum)"
   ]
  },
  {
   "cell_type": "code",
   "execution_count": 42,
   "id": "f0e909ce-b085-4958-a233-a7a794f83ab9",
   "metadata": {},
   "outputs": [
    {
     "name": "stdout",
     "output_type": "stream",
     "text": [
      "4051\n"
     ]
    }
   ],
   "source": [
    "# Draw Kanizsa Squares\n",
    "path = root + \"K_Square/\"\n",
    "filenum = 1\n",
    "gray = (100,100,100)\n",
    "for ri in range(0,90,5):\n",
    "    for angle in range(80,95):\n",
    "        for radius in range(25,40):\n",
    "            im=draw_kanizsa_square(angle,100,100,100,100,radius,45,0,gray)     \n",
    "            padded_num = str(filenum).rjust(6, '0')\n",
    "            filename = path + \"square_1_\" + padded_num + \".png\"\n",
    "            im = im.rotate(ri,fillcolor=(255,255,255))\n",
    "            im.save(filename,\"PNG\")\n",
    "            filenum = filenum + 1\n",
    "print(filenum)"
   ]
  },
  {
   "cell_type": "code",
   "execution_count": 44,
   "id": "788ae173-8a4e-42aa-a3b5-d0a76ff74473",
   "metadata": {},
   "outputs": [
    {
     "name": "stdout",
     "output_type": "stream",
     "text": [
      "4501\n"
     ]
    }
   ],
   "source": [
    "# Draw Kanizsa Triangles\n",
    "path = root + \"K_Triangle/\"\n",
    "\n",
    "\n",
    "filenum = 1\n",
    "gray = (100,100,100)\n",
    "for ri in range(0,90,5):\n",
    "    rotate_angle = 0\n",
    "    for angle in range(55,65):\n",
    "        for radius in range(35,60):\n",
    "            im=draw_kanizsa_triangle(angle,150,150,200,100,radius,90,0,gray)        \n",
    "            padded_num = str(filenum).rjust(6, '0')\n",
    "            filename = path + \"triangle_1_\" + padded_num + \".png\"\n",
    "            im = im.rotate(ri,fillcolor=(255,255,255))\n",
    "            im.save(filename,\"PNG\")\n",
    "            filenum = filenum + 1\n",
    "print(filenum)"
   ]
  },
  {
   "cell_type": "code",
   "execution_count": 45,
   "id": "8435b60c-7a49-44a6-9647-883bd39bcc27",
   "metadata": {},
   "outputs": [
    {
     "name": "stdout",
     "output_type": "stream",
     "text": [
      "4501\n"
     ]
    }
   ],
   "source": [
    "# Draw image with 3 unaligned Kanizsa inducers so that illusory image not created\n",
    "path = root + \"NK_Triangle/\"\n",
    "filenum = 1\n",
    "gray = (100,100,100)\n",
    "for ri in range(0,90,5):\n",
    "    for angle in range(55,65):\n",
    "        for radius in range(35,60):\n",
    "            im=draw_kanizsa_triangle(angle,150,150,200,100,radius,0,0,gray)        \n",
    "            padded_num = str(filenum).rjust(6, '0')\n",
    "            filename = path + \"triangle_0_\" + padded_num + \".png\"\n",
    "            im = im.rotate(ri,fillcolor=(255,255,255))\n",
    "            im.save(filename,\"PNG\")\n",
    "            filenum = filenum + 1\n",
    "print(filenum)"
   ]
  },
  {
   "cell_type": "code",
   "execution_count": 46,
   "id": "65ad5669-4bb7-47c2-a73b-1ae6b43cfaa1",
   "metadata": {},
   "outputs": [
    {
     "name": "stdout",
     "output_type": "stream",
     "text": [
      "8551\n"
     ]
    }
   ],
   "source": [
    "# Draw image with 4 unaligned Kanizsa inducers so that illusory image not created\n",
    "path = root + \"NK_Square/\"\n",
    "\n",
    "for ri in range(0,90,5):\n",
    "    for angle in range(80,95):\n",
    "        for radius in range(25,40):\n",
    "            im=draw_kanizsa_square(angle,100,100,100,100,radius,90,0,0)     \n",
    "            padded_num = str(filenum).rjust(6, '0')\n",
    "            filename = path + \"square_0_\" + padded_num + \".png\"\n",
    "            im = im.rotate(ri,fillcolor=(255,255,255))\n",
    "            im.save(filename,\"PNG\")\n",
    "            filenum = filenum + 1\n",
    "print(filenum)"
   ]
  },
  {
   "cell_type": "code",
   "execution_count": 47,
   "id": "2589f179-94c4-4d02-942a-fbac015d1a72",
   "metadata": {},
   "outputs": [
    {
     "name": "stdout",
     "output_type": "stream",
     "text": [
      "4051\n"
     ]
    }
   ],
   "source": [
    "# Draw Coloured Kanizsa Squares\n",
    "path = root + \"KC_Square/\"\n",
    "filenum = 1\n",
    "gray = (100,100,100)\n",
    "for ri in range(0,90,5):\n",
    "    for angle in range(80,95):\n",
    "        for radius in range(25,40):\n",
    "            fillcolor = getRandColor()\n",
    "            im=draw_kanizsa_square(angle,100,100,100,100,radius,45,0,fillcolor)     \n",
    "            padded_num = str(filenum).rjust(6, '0')\n",
    "            filename = path + \"square_1_\" + padded_num + \".png\"\n",
    "            im = im.rotate(ri,fillcolor=(255,255,255))\n",
    "            im.save(filename,\"PNG\")\n",
    "            filenum = filenum + 1\n",
    "print(filenum)"
   ]
  },
  {
   "cell_type": "code",
   "execution_count": 48,
   "id": "a9ad7cab-e07d-45e3-b458-c5dfe90d032f",
   "metadata": {},
   "outputs": [
    {
     "name": "stdout",
     "output_type": "stream",
     "text": [
      "4501\n"
     ]
    }
   ],
   "source": [
    "# Draw coloured Kanizsa triangles\n",
    "path = root + \"KC_Triangle/\"\n",
    "\n",
    "\n",
    "filenum = 1\n",
    "gray = (100,100,100)\n",
    "for ri in range(0,90,5):\n",
    "    rotate_angle = 0\n",
    "    for angle in range(55,65):\n",
    "        for radius in range(35,60):\n",
    "            fillcolor = getRandColor()\n",
    "            im=draw_kanizsa_triangle(angle,150,150,200,100,radius,90,0,fillcolor)        \n",
    "            padded_num = str(filenum).rjust(6, '0')\n",
    "            filename = path + \"triangle_1_\" + padded_num + \".png\"\n",
    "            im = im.rotate(ri,fillcolor=(255,255,255))\n",
    "            im.save(filename,\"PNG\")\n",
    "            filenum = filenum + 1\n",
    "print(filenum)"
   ]
  },
  {
   "cell_type": "code",
   "execution_count": 68,
   "id": "0edbe9f2-632c-47e3-a391-32628a3e307a",
   "metadata": {},
   "outputs": [
    {
     "name": "stdout",
     "output_type": "stream",
     "text": [
      "201\n"
     ]
    }
   ],
   "source": [
    "# Generate set of blank coloured images\n",
    "root = \"Noise/\"\n",
    "path = root + \"Noise_Sq/\"\n",
    "black = (0,0,0)\n",
    "white = (255,255,255)\n",
    "gray = (100,100,100)\n",
    "colors = ['red','orange','yellow','green','blue','indigo','violet',black,white,gray]\n",
    "ri = 0\n",
    "filenum = 1\n",
    "object_type = 'Fill'\n",
    "for i in range(0,20):\n",
    "    for colorindex in range(0,10):\n",
    "# Parameters for draw_square\n",
    "# draw_square(xLength,yLength,xOrigin,yOrigin,scale,object_type(fill or outline),fillcolor,outlinecolor,lineWidth)\n",
    "        im=draw_empty_square(10,10,220,220,1,'Fill',colors[colorindex],gray,1)\n",
    "        padded_num = str(filenum).rjust(6, '0')\n",
    "        filename = path + \"square_1_\" + padded_num + \".png\"\n",
    "#        im = im.rotate(ri,fillcolor=(255,255,255))\n",
    "        im.save(filename,\"PNG\")\n",
    "        filenum = filenum + 1\n",
    "print(filenum)"
   ]
  },
  {
   "cell_type": "code",
   "execution_count": 69,
   "id": "5e41bc66-0aa0-42ae-8e55-452817cbb13d",
   "metadata": {},
   "outputs": [
    {
     "name": "stdout",
     "output_type": "stream",
     "text": [
      "201\n"
     ]
    }
   ],
   "source": [
    "# Generate set of blank coloured images. Identical to above but labelled triangles!\n",
    "root = \"Noise/\"\n",
    "path = root + \"Noise_T/\"\n",
    "black = (0,0,0)\n",
    "white = (255,255,255)\n",
    "gray = (100,100,100)\n",
    "colors = ['red','orange','yellow','green','blue','indigo','violet',black,white,gray]\n",
    "ri = 0\n",
    "filenum = 1\n",
    "object_type = 'Fill'\n",
    "for i in range(0,20):\n",
    "    for colorindex in range(0,10):\n",
    "# Parameters for draw_square\n",
    "# draw_square(xLength,yLength,xOrigin,yOrigin,scale,object_type(fill or outline),fillcolor,outlinecolor,lineWidth)\n",
    "        im=draw_empty_square(10,10,220,220,1,'Fill',colors[colorindex],gray,1)\n",
    "        padded_num = str(filenum).rjust(6, '0')\n",
    "        filename = path + \"square_1_\" + padded_num + \".png\"\n",
    "#        im = im.rotate(ri,fillcolor=(255,255,255))\n",
    "        im.save(filename,\"PNG\")\n",
    "        filenum = filenum + 1\n",
    "print(filenum)"
   ]
  },
  {
   "cell_type": "code",
   "execution_count": null,
   "id": "41e290f2-fdb7-4494-956a-93d1e52bd2f4",
   "metadata": {},
   "outputs": [],
   "source": []
  }
 ],
 "metadata": {
  "kernelspec": {
   "display_name": "Python 3 (ipykernel)",
   "language": "python",
   "name": "python3"
  },
  "language_info": {
   "codemirror_mode": {
    "name": "ipython",
    "version": 3
   },
   "file_extension": ".py",
   "mimetype": "text/x-python",
   "name": "python",
   "nbconvert_exporter": "python",
   "pygments_lexer": "ipython3",
   "version": "3.10.12"
  }
 },
 "nbformat": 4,
 "nbformat_minor": 5
}
